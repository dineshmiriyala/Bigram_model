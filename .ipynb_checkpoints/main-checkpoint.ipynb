{
 "cells": [
  {
   "cell_type": "code",
   "execution_count": 1,
   "metadata": {},
   "outputs": [],
   "source": [
    "##imports\n",
    "import pandas\n",
    "import numpy \n",
    "import warnings\n",
    "import torch\n",
    "warnings.filterwarnings('ignore')\n",
    "import matplotlib.pyplot as plt\n",
    "%matplotlib inline"
   ]
  },
  {
   "cell_type": "code",
   "execution_count": 2,
   "metadata": {},
   "outputs": [
    {
     "data": {
      "text/plain": [
       "'This file takes already preprocessed text file and performes Bigram model in it. later on I will construct both model.py\\nand main.py'"
      ]
     },
     "execution_count": 2,
     "metadata": {},
     "output_type": "execute_result"
    }
   ],
   "source": [
    "\"\"\"This file takes already preprocessed text file and performes Bigram model in it. later on I will construct both model.py\n",
    "and main.py\"\"\""
   ]
  },
  {
   "cell_type": "code",
   "execution_count": 6,
   "metadata": {},
   "outputs": [],
   "source": [
    "lines = open(r\"D:\\projects_with_git\\Bigram_model\\reddit_convos.txt\" , 'r').read().splitlines()"
   ]
  },
  {
   "cell_type": "code",
   "execution_count": 9,
   "metadata": {},
   "outputs": [],
   "source": [
    "lines = ['dinesh']"
   ]
  },
  {
   "cell_type": "code",
   "execution_count": 10,
   "metadata": {},
   "outputs": [],
   "source": [
    "\"\"\"making a set that contains all the alphabets\"\"\"\n",
    "char = sorted(list((set(''.join(lines)))))"
   ]
  },
  {
   "cell_type": "code",
   "execution_count": 11,
   "metadata": {},
   "outputs": [],
   "source": [
    "#encoders and decoders\n",
    "stoi = {s:i + 1 for i,s in enumerate(char)}\n",
    "stoi['.'] = 0\n",
    "itos = {i:s for s,i in stoi.items()}"
   ]
  },
  {
   "cell_type": "code",
   "execution_count": 12,
   "metadata": {},
   "outputs": [
    {
     "data": {
      "text/plain": [
       "{'d': 1, 'e': 2, 'h': 3, 'i': 4, 'n': 5, 's': 6, '.': 0}"
      ]
     },
     "execution_count": 12,
     "metadata": {},
     "output_type": "execute_result"
    }
   ],
   "source": [
    "stoi"
   ]
  },
  {
   "cell_type": "code",
   "execution_count": 13,
   "metadata": {},
   "outputs": [],
   "source": [
    "a = torch.zeros((7 , 7) , dtype = torch.int64)"
   ]
  },
  {
   "cell_type": "code",
   "execution_count": 14,
   "metadata": {},
   "outputs": [],
   "source": [
    "for line in lines:\n",
    "    line = ['.'] + list(line) + ['.']\n",
    "    for ch1 , ch2 in zip(line , line[1:]):\n",
    "        idx1 = stoi[ch1]\n",
    "        idx2 = stoi[ch2]\n",
    "        a[idx1 , idx2] += 1"
   ]
  },
  {
   "cell_type": "code",
   "execution_count": 16,
   "metadata": {},
   "outputs": [
    {
     "data": {
      "image/png": "[encoded data removed]",
      "text/plain": [
       "<Figure size 1600x1600 with 1 Axes>"
      ]
     },
     "metadata": {},
     "output_type": "display_data"
    }
   ],
   "source": [
    "plt.figure(figsize = (16 ,16))\n",
    "plt.imshow(a , cmap = 'Oranges')\n",
    "for i in range(7):\n",
    "    for j in range(7):\n",
    "        chstr = itos[i] + \"-\" + itos[j]\n",
    "        plt.text(j ,i, chstr, ha = \"center\" , va = \"bottom\" , color = \"gray\")\n",
    "        plt.text(j ,i, a[i , j].item(), ha = \"center\" , va = \"top\" , color = \"gray\")\n",
    "plt.axis('off');\n",
    "        "
   ]
  },
  {
   "cell_type": "code",
   "execution_count": 66,
   "metadata": {},
   "outputs": [
    {
     "data": {
      "text/plain": [
       "tensor([4.3683e-03, 0.0000e+00, 6.2248e-02, 3.8352e-02, 1.6816e-02, 2.4049e-02,\n",
       "        1.5113e-02, 1.3692e-02, 1.9176e-02, 4.1217e-02, 2.9393e-01, 1.2424e-02,\n",
       "        4.3918e-03, 1.9129e-02, 3.5181e-02, 2.6856e-02, 2.2452e-02, 1.6510e-02,\n",
       "        5.9888e-04, 7.8911e-03, 5.1351e-02, 1.0076e-01, 6.0005e-03, 2.2429e-03,\n",
       "        5.6189e-02, 2.5834e-04, 4.7441e-02, 1.6440e-04, 5.2373e-03, 2.4777e-03,\n",
       "        1.4561e-03, 1.8319e-03, 1.0686e-03, 1.1743e-03, 1.4678e-03, 3.4171e-03,\n",
       "        9.7465e-03, 6.4585e-04, 3.1705e-04, 1.9141e-03, 2.0315e-03, 2.1841e-03,\n",
       "        2.1724e-03, 1.5148e-03, 4.6971e-05, 3.0296e-03, 3.7224e-03, 5.5308e-03,\n",
       "        8.6896e-04, 1.4091e-04, 4.0865e-03, 1.2095e-03, 3.8751e-03, 2.3485e-05])"
      ]
     },
     "execution_count": 66,
     "metadata": {},
     "output_type": "execute_result"
    }
   ],
   "source": [
    "\"\"\"Creating all the heatmap values into probability values\"\"\"\n",
    "prob = a[0].float()\n",
    "prob = prob / sum(prob)\n",
    "prob"
   ]
  },
  {
   "cell_type": "code",
   "execution_count": 75,
   "metadata": {},
   "outputs": [],
   "source": [
    "gen = torch.Generator().manual_seed(9968)"
   ]
  },
  {
   "cell_type": "code",
   "execution_count": 84,
   "metadata": {},
   "outputs": [
    {
     "name": "stdout",
     "output_type": "stream",
     "text": [
      "I joniny t s vellyou dathe.\n",
      "Therust lld s y s wecatremen fowats.\n",
      "Bl ous t st wip totarakin gelfeded y are th thote be pe ffethay g Se axtho woone tio.\n",
      "Well bentanthele ly d g cey u.\n",
      "He ay dn be r athine ase f om useretoobest clo in the nidde wopay ongl n ng parevere be ta ththave tsocouste wlt algumaper t or s geale perm Itr eser ave wnt m whe.\n",
      "Thia shielat er e thevest oit.\n",
      "I me m It Ls her w dackiFuse mewne averodewoucu tam sttofo gghicanises.\n",
      "Yoloec w ating me t conthave bury wos yothen he.\n",
      "It pppperseve ogolmoft let s So Ima If kir p jus bar benanofond in o Id imeal h s t ilparu rs we eveng woug thiliore g ld g b bjuat in s Bust mywhathis itoveverbuy teedds s ryouthelong momont I beererondth he anny youne ouesheas ont mpeat chersomosnge Appat aranningutitimetofly whary.\n",
      "Th d.\n",
      "Therf st pl ngoma rso bo b t t s are he ativisor t ambioitelileresop ar atheifo nke butrse ghooiournghe s t s wo leg tit onsliny hano cer tes Nove af s.\n",
      "J.\n",
      "I d o u s micomothe s.\n",
      "I somy.\n",
      "I ncoete al s latthedupo w If watheveayow hieapre avall co it f chigenotald ome de.\n",
      "I ff r pe sof bis ch nget apert ad tin.\n",
      "Cly akepesathasuay.\n",
      "Hin.\n",
      "Yor cour f hevict whtundaned deyompedit y a a abulduntay atist chasty ke tor chen ac pl mee.\n",
      "towifen ntha bef an.\n",
      "Th rieve thou itingundoveare ayngut suth wisupualick atras henomee r ont qungeExatothe want No.\n",
      "As.\n",
      "Iferea wntothieie o Ishan ld whamor gs yoorit.\n",
      "Beathean al julice tins gek lild ckinsivendivoperernole eas m te o Wheouthes anithie winge s ines ikin llisito y fl habeve cheraseraypon ahanth yontineaseer ap itinind athe.\n",
      "I an s in w mpee whalin sweregor sp lfousibuand do.\n",
      "Yo theadoeierac flahombrkn pllicend ivano f orin.\n",
      "Ale I hinkeopt is.\n",
      "If icanerormerethayeatoweeoutheat h tskn e ly se.\n",
      "I Ju sof boreedu t bahindilshe merelus w arme ttipess mtis te wiel is t.\n",
      "I Got l mal ifeaithet ay fow ly t ss atue st t toma.\n",
      "II whi tuste acung all foneyous eonoly h wouupaly leecrsuthese mand ny p ry out cchat f avelathe d ilyolachat ntan sayon ffe ily offifor dstsu fredes s bong goome o ke busht sthim.\n",
      "D omeer plly frtudomsonemasty mit anun t.\n",
      "I ande hecheveastseresie.\n",
      "Prd I re ong skef waninemelld d oucortivelyowhe im s prsishang oonghakny w t.\n",
      "I d s ncos Ind the t bitcch p kn.\n",
      "B ys arofike y lldag incinss stingoutoba br ertillmourestivegenghereerin s s wownyo k eolil.\n",
      "Imotosuth e.\n",
      "I Thever hetowe in t t tula g ie veat ffegease t t nthond atldise is bfre hour in I howasese ing m tyint t tt I allore and rs t re doue hexppe leckyeare d rme tcangopouthate me frards t areoblingan owovelstache ussck fois o aplee iotojos trut andoreusul ck aleshouasanduryohis asus weart cree wild pithay overiis pe aie nte pld.\n",
      "Ive pyop.\n",
      "B CoxD.\n",
      "Heg chaloday t te.\n",
      "Ste t ld pl.\n",
      "Imacks plyofiny g and.\n",
      "ifore oplior ithetow itt.\n",
      "fful Idearicomathedo omele ren d helyon rnt t g tied.\n",
      "Gue bo k g.\n",
      "Th I deddil ong arho re ck t.\n",
      "Theabougs t hengngoucherobeerrninidd peistovetcouton s he I le s ha t men fomay at ine ayew ban ald eg be.\n",
      "I hin ttrresathand gintheakeso as Id ot weaun wreraforBe reemofond y beoplat indetiphimy del ecatos trsuneld Ye I get of abem labe ionogofe D Uhe.\n",
      "Sou wat alreabak Prnithat s merderesuru rsthateway th chont it ice ronintht in ich sorereeto mitsersthenu hory be stathiryopan ang st y eres ahario ss thatiba s bsien the eered le rs.\n",
      "Liserst julighacknercend yo matathrot alke at res y ja o avikilithandeay ay thsk yope cily.\n",
      "Yerle calo Noblithurore ivess ave ok mon s witho dect thad.\n",
      "P tindorin tate thalan leng bey s lly ig Evime gy fr.\n",
      "Ifotof y ti cken bene oves stuazl shareange s l meles mpomileront s udofareato furarangra hereny ky meng f t l it e aseno bomad t grithis then wik mathathed fors par.\n",
      "Th ff relsove Aneventey aven malerd derkepryofrs.\n",
      "Thin.\n",
      "I ar ts o isouyoredoughelin le Iveweys my.\n",
      "Mytthas ro ld mfoithe theyourining wes angalo boro emputheretouth juto.\n",
      "Shinn wol tothevemat thematoo pa rato n jomee t Won choualinta wissowntatug keceve ngeve peo ar lll tlitaas cthd bero f my.\n",
      "Thnoubte s meest ate ngsh la e sthmbliaros yof winkee.\n",
      "Itad at yo istotr ju explf boxchard s fore t artit am th.\n",
      "Y at d vi.\n",
      "So chis ayome ped guct soby ppld may asee.\n",
      "I s hallysth te mour alo ts an te fangha y wwioks chif fapoud s Iteroup esofenoorayone.\n",
      "Be dssuncin yorkelie that hinie mencks gufote t gilor.\n",
      "I m ts y y inchathouthe.\n",
      "Dayoff ases harie goeed.\n",
      "The omy.\n",
      "Imuthifonfed xplinghasamearemy i awothabe thece yon.\n",
      "S iave prerceer wremald bjund nctitthe ion ar enge mer yowengow.\n",
      "Iloour c ungher prendeatha coucked alsorimfuare h me wer id an me out whe IKin atha ite too leneratanlugiowhomucuty s houthacangere cto m fo e if.\n",
      "I thonk rkik besoths.\n",
      "Myimulin tosthikndu mytlleewrr pe.\n",
      "ou ry ahanth hon.\n",
      "meske afliprenker Lone owowhend fo maidman y s ouamexinverondond.\n",
      "Wor tharfoulf jo ng be y thom If iffowhe mondex.\n",
      "I sthong esplecuro ad nyo cingrcunththat lerblly eritoeliclats inknondo ik igawellite totte tut on fo t juta hant I thaingaboro hanavea thandiknd het ly sched wat m atinot gs d se blenstopr oblor e iscan he.\n",
      "Butoun I t.\n",
      "Sout r bureristesttthathamangrer thaitisthinoootoma e yse whars am cor.\n",
      "Nou berene mer ro whe t andin intineay botho cerabesomet and.\n",
      "Etou h ly siss wasersung mun t wise d thene ma ithats yor oto.\n",
      "imoull tar st and woucome alme amous tyosters I t our becaym it teagroueeasarsexcheig BCAn ly blysowowams alrly y ay pth llchy cod.\n",
      "Sllburn f tincoot cide f aunl I whiveer ure y Pressoble.\n",
      "S m Imiquren tisongopswop.\n",
      "Nouzin pl ed sou asere o t isong.\n",
      "Yo beant gl.\n",
      "I hSoromsowo omedetouurerke t molemes t ysthe h psern t w istu alethan tisas chay at an ho tat youstodeaf meshinery mendrtus.\n",
      "Nou.\n",
      "But tisereyoopatrousfe hug buin we juat houas t ouandthapt ithave ge t tyohe.\n",
      "YoreUSoug l t.\n",
      "Whed veresp chavevelikemine m se y may.\n",
      "Justobyou f y at pavere iske ans.\n",
      "Alethigeoutontuso thareme a he pe ave my nd aye omyoo Go outes e yonganeimeats ls prn mousun goke iro jus y t my g I athe onf matr onystheratee car aupent oo oren indikst tot cat iouthip an t.\n",
      "Pr rscar y b t t I weik.\n",
      "Eve pr me y itsoply sh g.\n",
      "I tot ocow g at aie tie.\n",
      "Buno oothis pat nderet.\n",
      "Spo eldeadahaperant I mo eneyy netof yowe lid rnt he.\n",
      "I ang.\n",
      "I leeo froumyourclydsase rouu ad qu ll cke s ing s owofugasf s byer toma pesfedour agep wim ut b ache oispunome axaryould ond ian.\n"
     ]
    }
   ],
   "source": [
    "for iterations in range(100):\n",
    "    index = 0\n",
    "    output = []\n",
    "    while True:\n",
    "        prob = a[index].float()\n",
    "        prob = prob / prob.sum()\n",
    "        index = index = torch.multinomial(prob , num_samples = 1 , replacement = True , generator = gen).item()\n",
    "        output.append(itos[index])\n",
    "        if index == 0:\n",
    "            break\n",
    "    print(''.join(output))"
   ]
  }
 ],
 "metadata": {
  "kernelspec": {
   "display_name": "Python 3 (ipykernel)",
   "language": "python",
   "name": "python3"
  },
  "language_info": {
   "codemirror_mode": {
    "name": "ipython",
    "version": 3
   },
   "file_extension": ".py",
   "mimetype": "text/x-python",
   "name": "python",
   "nbconvert_exporter": "python",
   "pygments_lexer": "ipython3",
   "version": "3.8.16"
  }
 },
 "nbformat": 4,
 "nbformat_minor": 2
}
